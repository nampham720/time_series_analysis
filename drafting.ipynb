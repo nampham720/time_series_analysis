{
 "cells": [
  {
   "cell_type": "code",
   "execution_count": 2,
   "id": "ead293cf-2b3f-4f80-a236-a177cc01a94b",
   "metadata": {},
   "outputs": [],
   "source": [
    "import pandas as pd\n",
    "import numpy as np\n",
    "from statsmodels.tsa.arima.model import ARIMA\n",
    "from statsmodels.graphics.tsaplots import plot_acf, plot_pacf\n",
    "import matplotlib.pyplot as plt\n",
    "import json\n",
    "import preprocess_functions as f"
   ]
  },
  {
   "cell_type": "code",
   "execution_count": 10,
   "id": "b98c78c4-5971-4566-8071-e05a8aaee224",
   "metadata": {},
   "outputs": [],
   "source": [
    "PATH = 'realKnownCause/ec2_request_latency_system_failure.csv'\n",
    "ERRORPATH = 'labels/combined_labels.json'\n",
    "df = pd.read_csv(PATH,  parse_dates=['timestamp'])\n",
    "with open(ERRORPATH, \"r\") as file:\n",
    "    error_file = json.load(file)"
   ]
  },
  {
   "cell_type": "code",
   "execution_count": 11,
   "id": "a910f411-6b59-4254-b71e-e176eae77b81",
   "metadata": {},
   "outputs": [
    {
     "data": {
      "text/html": [
       "<div>\n",
       "<style scoped>\n",
       "    .dataframe tbody tr th:only-of-type {\n",
       "        vertical-align: middle;\n",
       "    }\n",
       "\n",
       "    .dataframe tbody tr th {\n",
       "        vertical-align: top;\n",
       "    }\n",
       "\n",
       "    .dataframe thead th {\n",
       "        text-align: right;\n",
       "    }\n",
       "</style>\n",
       "<table border=\"1\" class=\"dataframe\">\n",
       "  <thead>\n",
       "    <tr style=\"text-align: right;\">\n",
       "      <th></th>\n",
       "      <th>timestamp</th>\n",
       "      <th>value</th>\n",
       "    </tr>\n",
       "  </thead>\n",
       "  <tbody>\n",
       "    <tr>\n",
       "      <th>count</th>\n",
       "      <td>4032</td>\n",
       "      <td>4032.000000</td>\n",
       "    </tr>\n",
       "    <tr>\n",
       "      <th>mean</th>\n",
       "      <td>2014-03-14 03:40:14.434523648</td>\n",
       "      <td>45.155874</td>\n",
       "    </tr>\n",
       "    <tr>\n",
       "      <th>min</th>\n",
       "      <td>2014-03-07 03:41:00</td>\n",
       "      <td>22.864000</td>\n",
       "    </tr>\n",
       "    <tr>\n",
       "      <th>25%</th>\n",
       "      <td>2014-03-10 15:39:45</td>\n",
       "      <td>43.944000</td>\n",
       "    </tr>\n",
       "    <tr>\n",
       "      <th>50%</th>\n",
       "      <td>2014-03-14 03:38:30</td>\n",
       "      <td>45.017000</td>\n",
       "    </tr>\n",
       "    <tr>\n",
       "      <th>75%</th>\n",
       "      <td>2014-03-17 15:42:15</td>\n",
       "      <td>46.362000</td>\n",
       "    </tr>\n",
       "    <tr>\n",
       "      <th>max</th>\n",
       "      <td>2014-03-21 03:41:00</td>\n",
       "      <td>99.248000</td>\n",
       "    </tr>\n",
       "    <tr>\n",
       "      <th>std</th>\n",
       "      <td>NaN</td>\n",
       "      <td>2.287089</td>\n",
       "    </tr>\n",
       "  </tbody>\n",
       "</table>\n",
       "</div>"
      ],
      "text/plain": [
       "                           timestamp        value\n",
       "count                           4032  4032.000000\n",
       "mean   2014-03-14 03:40:14.434523648    45.155874\n",
       "min              2014-03-07 03:41:00    22.864000\n",
       "25%              2014-03-10 15:39:45    43.944000\n",
       "50%              2014-03-14 03:38:30    45.017000\n",
       "75%              2014-03-17 15:42:15    46.362000\n",
       "max              2014-03-21 03:41:00    99.248000\n",
       "std                              NaN     2.287089"
      ]
     },
     "execution_count": 11,
     "metadata": {},
     "output_type": "execute_result"
    }
   ],
   "source": [
    "df.describe()"
   ]
  },
  {
   "cell_type": "code",
   "execution_count": null,
   "id": "dcf84183-5a93-42d6-9b20-ac54278e4719",
   "metadata": {},
   "outputs": [],
   "source": []
  },
  {
   "cell_type": "code",
   "execution_count": 12,
   "id": "38c8fd38-d7ad-499a-a25f-ce6bb31ccbd1",
   "metadata": {},
   "outputs": [
    {
     "data": {
      "text/plain": [
       "{'daily': 288, 'time_of_day': 72}"
      ]
     },
     "execution_count": 12,
     "metadata": {},
     "output_type": "execute_result"
    }
   ],
   "source": [
    "time_diff, df = f.process_time_series(PATH, error_file)\n",
    "def window_sizes_freq(time_diff):\n",
    "    window_sizes = dict()\n",
    "    window_sizes['daily'] = int(60*60*24 / time_diff)\n",
    "    window_sizes['time_of_day'] = int(window_sizes['daily'] / 4)\n",
    "    return window_sizes \n",
    "window_sizes_freq(time_diff)"
   ]
  },
  {
   "cell_type": "code",
   "execution_count": 14,
   "id": "78336ae9-8229-477e-94f7-843d0448d4fe",
   "metadata": {},
   "outputs": [
    {
     "name": "stdout",
     "output_type": "stream",
     "text": [
      "False\n",
      "False\n"
     ]
    }
   ],
   "source": [
    "import stats_helper as helper \n",
    "\n",
    "print(helper.seasonality_test(df, 'Additive', 288))\n",
    "print(helper.seasonality_test(df, 'Additive', 72))"
   ]
  },
  {
   "cell_type": "code",
   "execution_count": 9,
   "id": "f8c9b855-39f1-46bc-b15f-6a50872bcbf9",
   "metadata": {},
   "outputs": [
    {
     "name": "stdout",
     "output_type": "stream",
     "text": [
      "ADF Statistic: -5.227580090100702\n",
      "p-value: 7.72094565871251e-06; p-value < 0.05: True\n"
     ]
    }
   ],
   "source": [
    "from statsmodels.tsa.stattools import adfuller\n",
    "\n",
    "result = adfuller(df['diff_daily'].dropna())\n",
    "print(f'ADF Statistic: {result[0]}')\n",
    "print(f'p-value: {result[1]}; p-value < 0.05: {result[1] < 0.05}')"
   ]
  },
  {
   "cell_type": "code",
   "execution_count": 90,
   "id": "bcf03ad9-9773-41a0-987c-23fd5742f98d",
   "metadata": {},
   "outputs": [
    {
     "data": {
      "text/html": [
       "<div>\n",
       "<style scoped>\n",
       "    .dataframe tbody tr th:only-of-type {\n",
       "        vertical-align: middle;\n",
       "    }\n",
       "\n",
       "    .dataframe tbody tr th {\n",
       "        vertical-align: top;\n",
       "    }\n",
       "\n",
       "    .dataframe thead th {\n",
       "        text-align: right;\n",
       "    }\n",
       "</style>\n",
       "<table border=\"1\" class=\"dataframe\">\n",
       "  <thead>\n",
       "    <tr style=\"text-align: right;\">\n",
       "      <th></th>\n",
       "      <th>timestamp</th>\n",
       "      <th>value_min_min</th>\n",
       "      <th>value_min_max</th>\n",
       "      <th>value_min_mean</th>\n",
       "    </tr>\n",
       "  </thead>\n",
       "  <tbody>\n",
       "    <tr>\n",
       "      <th>0</th>\n",
       "      <td>2014-07-06 20:00:00</td>\n",
       "      <td>0.064535</td>\n",
       "      <td>0.064535</td>\n",
       "      <td>0.064535</td>\n",
       "    </tr>\n",
       "    <tr>\n",
       "      <th>1</th>\n",
       "      <td>2014-07-06 20:15:00</td>\n",
       "      <td>0.063880</td>\n",
       "      <td>0.065692</td>\n",
       "      <td>0.064622</td>\n",
       "    </tr>\n",
       "    <tr>\n",
       "      <th>2</th>\n",
       "      <td>2014-07-06 20:30:00</td>\n",
       "      <td>0.056301</td>\n",
       "      <td>0.067751</td>\n",
       "      <td>0.061683</td>\n",
       "    </tr>\n",
       "    <tr>\n",
       "      <th>3</th>\n",
       "      <td>2014-07-06 20:45:00</td>\n",
       "      <td>0.000000</td>\n",
       "      <td>0.065288</td>\n",
       "      <td>0.032644</td>\n",
       "    </tr>\n",
       "    <tr>\n",
       "      <th>4</th>\n",
       "      <td>2014-07-06 21:00:00</td>\n",
       "      <td>0.000000</td>\n",
       "      <td>0.063179</td>\n",
       "      <td>0.021060</td>\n",
       "    </tr>\n",
       "  </tbody>\n",
       "</table>\n",
       "</div>"
      ],
      "text/plain": [
       "            timestamp  value_min_min  value_min_max  value_min_mean\n",
       "0 2014-07-06 20:00:00       0.064535       0.064535        0.064535\n",
       "1 2014-07-06 20:15:00       0.063880       0.065692        0.064622\n",
       "2 2014-07-06 20:30:00       0.056301       0.067751        0.061683\n",
       "3 2014-07-06 20:45:00       0.000000       0.065288        0.032644\n",
       "4 2014-07-06 21:00:00       0.000000       0.063179        0.021060"
      ]
     },
     "execution_count": 90,
     "metadata": {},
     "output_type": "execute_result"
    }
   ],
   "source": [
    "# Extract the date (ignoring the time part)\n",
    "df['date'] = df['timestamp'].dt.date\n",
    "\n",
    "# Now, group by the 'date' and apply the ADF test on each day's data\n",
    "grouped = df.groupby('date')\n",
    "\n",
    "for date, data in grouped:\n",
    "    adf_result = adfuller(data['value'])\n",
    "    print(f\"Date: {date}, ADF p-value: {adf_result[1]}\")"
   ]
  },
  {
   "cell_type": "code",
   "execution_count": 11,
   "id": "bdba624a-8db8-43d5-9f3f-41c3c9c6a64d",
   "metadata": {},
   "outputs": [
    {
     "data": {
      "image/png": "[encoded data removed]",
      "text/plain": [
       "<Figure size 1600x400 with 2 Axes>"
      ]
     },
     "metadata": {},
     "output_type": "display_data"
    }
   ],
   "source": [
    "# Plot ACF and PACF\n",
    "fig, axes = plt.subplots(1, 2, figsize=(16, 4))\n",
    "plot_acf(df['value'], lags=288, ax=axes[0])  # Check seasonality\n",
    "plot_pacf(df['value'], lags=288, ax=axes[1])  # Check short-term dependencies\n",
    "plt.savefig('images/ec2_acf_pacf.png')\n",
    "plt.show()"
   ]
  },
  {
   "cell_type": "code",
   "execution_count": 115,
   "id": "7eb028ae-3a02-4e2a-86ee-f8ebf5e88b29",
   "metadata": {},
   "outputs": [],
   "source": [
    "df_30min['outlier'] = df_30min['timestamp'].apply(lambda x: f.is_outlier(x, error_windows))\n",
    "best_order = auto_model.order\n",
    "mean_values = df_30min['value_min_mean'].dropna()"
   ]
  },
  {
   "cell_type": "code",
   "execution_count": 116,
   "id": "5b9c2567-4319-47c2-b97c-239b3ac05720",
   "metadata": {},
   "outputs": [],
   "source": [
    "from statsmodels.tsa.arima.model import ARIMA"
   ]
  },
  {
   "cell_type": "code",
   "execution_count": 20,
   "id": "c963d780-f92c-4b13-b2b6-211e27cabf02",
   "metadata": {},
   "outputs": [],
   "source": [
    "def auto_arima_best_order(params):\n",
    "    trace      = params['trace'] \n",
    "    df         = params['df']\n",
    "    periods    = params['periods'] \n",
    "    \n",
    "    df      = df[['timestamp', 'value']].dropna()\n",
    "    model_1  = 'Additive' \n",
    "    model_2  = 'Additive' \n",
    "    period_1 = periods['time_of_day']\n",
    "    period_2 = periods['daily']\n",
    "\n",
    "\n",
    "    # Augmented Dickey-Fuller (ADF) Test\n",
    "    def adf_test(series):\n",
    "        if len(series) < 10:  # Ensure at least 10 data points\n",
    "            return False, False\n",
    "        result = adfuller(series)\n",
    "        if result[1] <= 0.05:\n",
    "            return True, False #print(\"The series is stationary (reject H0)\"), if stationary then trend does not exist\n",
    "        else:\n",
    "            return False, True #print(\"The series is non-stationary (fail to reject H0)\")\n",
    "\n",
    "    def seasonality_test(series, model, period):\n",
    "        # 2. **Check for Seasonality using Seasonal Decomposition**\n",
    "        if period < 2 or len(series) < period:\n",
    "            return False  # Not enough data for decomposition\n",
    "        try:\n",
    "            decomposition = seasonal_decompose(series, model=model, period=period)\n",
    "            seasonal_strength = np.std(decomposition.seasonal) / np.std(series)\n",
    "            seasonality_present = seasonal_strength > 0.1  # If seasonal component is significant\n",
    "            return seasonality_present\n",
    "        except:\n",
    "            return False  # If decomposition fails, assume no seasonality\n",
    "\n",
    "    df_stationary, df_trend = adf_test(df['value'])\n",
    "    df1_seasonality           = seasonality_test(df['value'], model_1, period_1) \n",
    "    df2_seasonality           = seasonality_test(df['value'], model_2, period_2)\n",
    "    \n",
    "    print(df_stationary, df_trend)\n",
    "    print(df1_seasonality)\n",
    "    print(df2_seasonality)"
   ]
  },
  {
   "cell_type": "code",
   "execution_count": 21,
   "id": "fdb21d40-9f79-4821-8b80-a5cdc3834b20",
   "metadata": {},
   "outputs": [
    {
     "name": "stdout",
     "output_type": "stream",
     "text": [
      "True False\n",
      "False\n",
      "False\n"
     ]
    }
   ],
   "source": [
    "params = {\n",
    "    'df': df,\n",
    "    'periods': window_sizes_freq(time_diff),\n",
    "    'trace': False\n",
    "}\n",
    "\n",
    "auto_arima_best_order(params)"
   ]
  },
  {
   "cell_type": "code",
   "execution_count": 15,
   "id": "8dd51b80-92d3-4fc5-bd09-6bbdd0ec4ef7",
   "metadata": {},
   "outputs": [
    {
     "data": {
      "text/plain": [
       "True"
      ]
     },
     "execution_count": 15,
     "metadata": {},
     "output_type": "execute_result"
    }
   ],
   "source": [
    "3 == 3 == 3"
   ]
  },
  {
   "cell_type": "code",
   "execution_count": null,
   "id": "3290a9a7-1096-4912-ae5d-5f56de31735f",
   "metadata": {},
   "outputs": [],
   "source": []
  }
 ],
 "metadata": {
  "kernelspec": {
   "display_name": "Python 3 (ipykernel)",
   "language": "python",
   "name": "python3"
  },
  "language_info": {
   "codemirror_mode": {
    "name": "ipython",
    "version": 3
   },
   "file_extension": ".py",
   "mimetype": "text/x-python",
   "name": "python",
   "nbconvert_exporter": "python",
   "pygments_lexer": "ipython3",
   "version": "3.10.14"
  }
 },
 "nbformat": 4,
 "nbformat_minor": 5
}
