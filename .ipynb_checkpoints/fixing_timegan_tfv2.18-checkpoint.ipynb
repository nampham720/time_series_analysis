{
 "cells": [
  {
   "cell_type": "code",
   "execution_count": 4,
   "id": "0177bbe2-77d1-489b-8015-e426bdd93670",
   "metadata": {},
   "outputs": [
    {
     "name": "stdout",
     "output_type": "stream",
     "text": [
      "                   timestamp     value\n",
      "0 2025-01-29 14:34:18.391471 -1.702214\n",
      "1 2025-01-29 14:39:18.391471  0.352195\n",
      "2 2025-01-29 14:44:18.391471 -1.860415\n",
      "3 2025-01-29 14:49:18.391471  0.588501\n",
      "4 2025-01-29 14:54:18.391471 -1.630108\n"
     ]
    }
   ],
   "source": [
    "import pandas as pd\n",
    "import numpy as np\n",
    "from datetime import datetime, timedelta\n",
    "\n",
    "# Generate timestamps (100 rows, 5-minute intervals)\n",
    "start_time = datetime.now()\n",
    "timestamps = [start_time + timedelta(minutes=5 * i) for i in range(100)]\n",
    "\n",
    "# Generate random values\n",
    "values = np.random.randn(100)  # Random normal values\n",
    "\n",
    "# Create DataFrame\n",
    "df = pd.DataFrame({'timestamp': timestamps, 'value': values})\n",
    "\n",
    "# Display first few rows\n",
    "print(df.head())\n",
    "\n",
    "# Save to CSV (optional)\n",
    "df.to_csv(\"time_series_data.csv\", index=False)\n"
   ]
  },
  {
   "cell_type": "code",
   "execution_count": 8,
   "id": "fdb0c20b-61bd-4ed3-a6eb-7a000a11dbd5",
   "metadata": {},
   "outputs": [],
   "source": [
    "from sklearn.preprocessing import MinMaxScaler\n",
    "\n",
    "# Normalize the data to [0, 1]\n",
    "scaler = MinMaxScaler()\n",
    "\n",
    "# Convert timestamp to sequential index\n",
    "df[\"time_index\"] = np.arange(len(df))  \n",
    "\n",
    "# Normalize smooth values (important for GAN training)\n",
    "scaler = MinMaxScaler()\n",
    "df[\"smooth_scaled\"] = scaler.fit_transform(df[[\"value\"]])\n",
    "\n",
    "# Keep only relevant columns\n",
    "data = df[[\"time_index\", \"smooth_scaled\"]].values"
   ]
  },
  {
   "cell_type": "code",
   "execution_count": 9,
   "id": "100fa442-7ae8-4914-8990-abf7a4b8339e",
   "metadata": {},
   "outputs": [
    {
     "name": "stdout",
     "output_type": "stream",
     "text": [
      "Training data shape: (52, 48, 2)\n"
     ]
    }
   ],
   "source": [
    "def create_sequences(data, seq_length=48):\n",
    "    sequences = []\n",
    "    for i in range(len(data) - seq_length):\n",
    "        sequences.append(data[i: i + seq_length])\n",
    "    return np.array(sequences)\n",
    "\n",
    "sequence_length = 48  # Adjust as needed\n",
    "train_data = create_sequences(data, sequence_length)\n",
    "\n",
    "print(f\"Training data shape: {train_data.shape}\")  # (num_samples, sequence_length, features)"
   ]
  },
  {
   "cell_type": "code",
   "execution_count": 11,
   "id": "9f3052b2-62fd-45da-a0c4-0c27803bb3e3",
   "metadata": {},
   "outputs": [
    {
     "ename": "AttributeError",
     "evalue": "module 'tensorflow' has no attribute 'placeholder'",
     "output_type": "error",
     "traceback": [
      "\u001b[0;31m---------------------------------------------------------------------------\u001b[0m",
      "\u001b[0;31mAttributeError\u001b[0m                            Traceback (most recent call last)",
      "Cell \u001b[0;32mIn[11], line 14\u001b[0m\n\u001b[1;32m     10\u001b[0m parameters[\u001b[38;5;124m'\u001b[39m\u001b[38;5;124mbatch_size\u001b[39m\u001b[38;5;124m'\u001b[39m] \u001b[38;5;241m=\u001b[39m \u001b[38;5;241m128\u001b[39m\n\u001b[1;32m     13\u001b[0m \u001b[38;5;66;03m# Train TimeGAN\u001b[39;00m\n\u001b[0;32m---> 14\u001b[0m synth_data \u001b[38;5;241m=\u001b[39m \u001b[43mtimegan\u001b[49m\u001b[43m(\u001b[49m\u001b[43mtrain_data\u001b[49m\u001b[43m,\u001b[49m\u001b[43m \u001b[49m\u001b[43mparameters\u001b[49m\u001b[43m)\u001b[49m  \u001b[38;5;66;03m# Generate synthetic data\u001b[39;00m\n",
      "File \u001b[0;32m/projappl/project_2012638/thesis/time_series_analysis/timegan.py:80\u001b[0m, in \u001b[0;36mtimegan\u001b[0;34m(ori_data, parameters)\u001b[0m\n\u001b[1;32m     77\u001b[0m gamma        \u001b[38;5;241m=\u001b[39m \u001b[38;5;241m1\u001b[39m\n\u001b[1;32m     79\u001b[0m \u001b[38;5;66;03m# Input place holders\u001b[39;00m\n\u001b[0;32m---> 80\u001b[0m X \u001b[38;5;241m=\u001b[39m \u001b[43mtf\u001b[49m\u001b[38;5;241;43m.\u001b[39;49m\u001b[43mplaceholder\u001b[49m(tf\u001b[38;5;241m.\u001b[39mfloat32, [\u001b[38;5;28;01mNone\u001b[39;00m, max_seq_len, dim], name \u001b[38;5;241m=\u001b[39m \u001b[38;5;124m\"\u001b[39m\u001b[38;5;124mmyinput_x\u001b[39m\u001b[38;5;124m\"\u001b[39m)\n\u001b[1;32m     81\u001b[0m Z \u001b[38;5;241m=\u001b[39m tf\u001b[38;5;241m.\u001b[39mplaceholder(tf\u001b[38;5;241m.\u001b[39mfloat32, [\u001b[38;5;28;01mNone\u001b[39;00m, max_seq_len, z_dim], name \u001b[38;5;241m=\u001b[39m \u001b[38;5;124m\"\u001b[39m\u001b[38;5;124mmyinput_z\u001b[39m\u001b[38;5;124m\"\u001b[39m)\n\u001b[1;32m     82\u001b[0m T \u001b[38;5;241m=\u001b[39m tf\u001b[38;5;241m.\u001b[39mplaceholder(tf\u001b[38;5;241m.\u001b[39mint32, [\u001b[38;5;28;01mNone\u001b[39;00m], name \u001b[38;5;241m=\u001b[39m \u001b[38;5;124m\"\u001b[39m\u001b[38;5;124mmyinput_t\u001b[39m\u001b[38;5;124m\"\u001b[39m)\n",
      "\u001b[0;31mAttributeError\u001b[0m: module 'tensorflow' has no attribute 'placeholder'"
     ]
    }
   ],
   "source": [
    "from timegan import timegan\n",
    "\n",
    "## Newtork parameters\n",
    "parameters = dict()\n",
    "\n",
    "parameters['module'] = 'gru' \n",
    "parameters['hidden_dim'] = 24\n",
    "parameters['num_layer'] = 3\n",
    "parameters['iterations'] = 5000\n",
    "parameters['batch_size'] = 128\n",
    "\n",
    "\n",
    "# Train TimeGAN\n",
    "synth_data = timegan(train_data, parameters)  # Generate synthetic data"
   ]
  },
  {
   "cell_type": "code",
   "execution_count": null,
   "id": "b68ec7a3-fa9c-4124-a4ea-eab2b182ad57",
   "metadata": {},
   "outputs": [],
   "source": []
  }
 ],
 "metadata": {
  "kernelspec": {
   "display_name": "Python 3 (ipykernel)",
   "language": "python",
   "name": "python3"
  },
  "language_info": {
   "codemirror_mode": {
    "name": "ipython",
    "version": 3
   },
   "file_extension": ".py",
   "mimetype": "text/x-python",
   "name": "python",
   "nbconvert_exporter": "python",
   "pygments_lexer": "ipython3",
   "version": "3.10.14"
  }
 },
 "nbformat": 4,
 "nbformat_minor": 5
}
